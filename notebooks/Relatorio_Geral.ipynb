{
 "cells": [
  {
   "cell_type": "markdown",
   "metadata": {},
   "source": [
    "# ICD - Projeto Final: Estudo da progressão do COVID-19 pelo mundo e sua relação com índices socioeconômicos dos países\n",
    "\n",
    "\n",
    "\n"
   ]
  },
  {
   "cell_type": "markdown",
   "metadata": {},
   "source": [
    "## Integrantes\n",
    "- Francisco Bonome Andrade \n",
    "- Lucas Caetano Lopes Rodrigues\n",
    "- Lucas Mundim\n",
    "- Pedro Tavares de Carvalho\n",
    "- Vitoria Mirella Pereira do Nascimento\n",
    "\n",
    "## Apresentação em vídeo\n",
    "\n",
    "A apresentação em vídeo pode ser acessada [nesse link](https://youtu.be/Br0QGZ3pOSc)."
   ]
  },
  {
   "cell_type": "markdown",
   "metadata": {},
   "source": [
    "## Disclaimer\n",
    "\n",
    "Originalmente o presente trabalho tinha como tema \"Estudo do movimento pandêmico pelos estados brasileiros e o impacto das medidas preventivas na proliferação da doença\" (Grupo 3). Entretanto, alteramos nosso tema pelos seguintes motivos:\n",
    "\n",
    "- Encontramos dificuldades técnicas na realização de análises rigorosas de medidas preventivas contra o COVID-19 (Leis, medidas provisórias, portarias, etc). Isso se deu ao fato de que (i) os resultado das medidas demoram algumas semanas e às vezes até meses para se refletirem na curva da doença; (ii) existem muitos fatores em conjunto que afetam a curva da doença. Analisar todos esses fatores configuraria um trabalho de exploração e especulação muito grande, dificilmente refletindo nas técnicas apresentadas na disciplina.\n",
    "- Os dados que antes haviamos retirado do [MonitoraCovid-19](https://bigdata-covid19.icict.fiocruz.br/) são completos o suficiente para realizar uma análise sobre a doença no Brasil. Entretanto, os dados da [OMS](https://covid19.who.int/table) são igualmente adequados para avaliar a curva no Brasil, com o adicional de podermos compará-la aos outros países no mundo.\n",
    "\n",
    "Portanto, alteramos (informalmente) o tema do presente trabalho para **Estudo da progressão do COVID-19 pelo mundo e sua relação com índices socioeconômicos dos países**. O objetivo de explorar esse tema é realizar uma análise rigorosa do movimento da pandemia pelos países do mundo e, em específico, encontrar relações entre os índices socioeconômicos desses países e o impacto da doença nas populações. As novas perguntas que nos propusemos a responder estão especificadas abaixo.\n",
    "\n",
    "Pedimos a compreensão dos(as) avaliadores(as) e agradecemos de antemão."
   ]
  },
  {
   "cell_type": "markdown",
   "metadata": {},
   "source": [
    "## Introdução"
   ]
  },
  {
   "cell_type": "markdown",
   "metadata": {},
   "source": [
    "No presente ano de 2020 vivenciamos a primeira manifestação de uma pandemia em um século. O COVID-19 é uma doença infecciosa causada pelo vírus _coronavírus_ recentemente descoberto. Com seu crescimento rápido inicialmente na China, e em seguida no resto do mundo, a doença tem causado grande impacto no cotidiano das pessoas e levando a um número exorbitante de mortes que hoje já se encontra na casa dos milhões.\n",
    "\n",
    "A preocupação com a progressão da doença levou várias organizações locais e mundiais de saúde e saneamento a  se movimentarem para desenvolver um monitoramento acurado do número de infectados e mortos. Essa movimentação gerou uma grande quantidade de dados que podem (e devem) ser explorados para que se entenda a natureza da progressão da doença de forma a criar medidas que reduzam seu impacto na vida das pessoas.\n",
    "\n",
    "Além disso, embora a doença tenha afetado significativamente quase todos os países no globo, a realidade de cada um desses países é singular, o que altera substancialmente o impacto da doença sobre a população de cada país.\n",
    "\n",
    "Com isso em mente, o presente trabalho tem como objetivo utilizar dados já conhecidos sobre índices socioeconômicos dos países (tais como IDH e gasto com saúde per capita) em conjunto com os dados do COVID-19 para levantar visões e perspectivas sobre o impacto do COVID-19 no mundo levando em consideração a realidade de cada país.\n",
    "\n",
    "Essa análise objetiva contribuir com a previsão de qual será o impacto da doença à médio/longo prazo nos países baseando-se em suas caracteristicas climáticas e socioeconômicas."
   ]
  },
  {
   "cell_type": "markdown",
   "metadata": {},
   "source": [
    "## Motivação"
   ]
  },
  {
   "cell_type": "markdown",
   "metadata": {},
   "source": [
    "A motivação para o tema do presente trabalho é tirar possíveis _insights_ sobre o impacto da pandemia em cada país, levando em consideração sua realidade socioeconômica. Intuitivamente, países subdesenvolvidos tendem a sofrer mais com as consequências de uma pandemia, enquanto países desenvolvidos tendem a sofrer menos com essas consequências. Procuramos então traçar um paralelo entre as condições socioeconômicas e climáticas de cada país e o quão impactado ele foi pela pandemia, além de tentar prever o impacto que a doença causará a médio/longo prazo na vida de todos."
   ]
  },
  {
   "cell_type": "markdown",
   "metadata": {},
   "source": [
    "## Perguntas"
   ]
  },
  {
   "cell_type": "markdown",
   "metadata": {},
   "source": [
    "1. Qual a curva mais adequada para predição de casos de Covid?\n",
    "2. Fatores climáticos e socioeconômicos podem impactar na propagação da doença?\n",
    "3. É possível prever a propagação da Covid19 baseando-se nesses fatores?"
   ]
  },
  {
   "cell_type": "markdown",
   "metadata": {},
   "source": [
    "## Dados utilizados "
   ]
  },
  {
   "cell_type": "code",
   "execution_count": 1,
   "metadata": {},
   "outputs": [
    {
     "data": {
      "image/png": "[encoded data removed]",
      "text/plain": [
       "<IPython.core.display.Image object>"
      ]
     },
     "execution_count": 1,
     "metadata": {},
     "output_type": "execute_result"
    }
   ],
   "source": [
    "from IPython.display import Image\n",
    "Image('../images/csv_mundo_image.png')"
   ]
  },
  {
   "cell_type": "markdown",
   "metadata": {},
   "source": [
    "**Descrição**: Conjuntos de CSVs contendo dados socioeconômicos sobre os países e dados sobre a propagação da COVID-19 no mundo.\n",
    "\n",
    "Fontes: [OMS](https://covid19.who.int/table) (Dados sobre o COVID-19), [World Bank Open Data](https://data.worldbank.org/), [World Population Review](https://worldpopulationreview.com/), [Our World in Data](https://ourworldindata.org/), [Human Development Reports](http://hdr.undp.org/en/content/2019-human-development-index-ranking&#160;&#160;) e [Worldometer](https://www.worldometers.info/world-population/population-by-country/) (Dados de índices socioeconômicos dos países)."
   ]
  },
  {
   "cell_type": "markdown",
   "metadata": {},
   "source": [
    "## Limpeza dos dados "
   ]
  },
  {
   "cell_type": "markdown",
   "metadata": {},
   "source": [
    "A forma como as tabelas foram tratadas estão relatadas no início do/dos notebook(s) que a(s) usam, por fins de adequação ao contexto."
   ]
  },
  {
   "cell_type": "markdown",
   "metadata": {},
   "source": [
    "## Notebooks neste trabalho\n",
    "\n",
    "1. Relatorio_Geral: Este documento. Possui o nome dos integrantes do grupo, a introdução e as perguntas que desejamos responder.\n",
    "\n",
    "\n",
    "2. Exploracao_Indices_Socioeconomicos: Notebook de limpeza/estruturação dos dados com a análise inicial dos índices socioeconômicos (correlações entre os índices, análise de outliers, distribuições dos atributos).\n",
    "\n",
    "\n",
    "3. Relatorio_TestesDeHipotese: Notebook para testes de hipóteses. Contém os testes de hipóteses avaliados sobre a influência dos índices socioeconômicos no impacto da doença nos países.\n",
    "\n",
    "\n",
    "4. Relatorio_Regressao: Notebook contendo os modelos de regressão. Aqui propomos dois objetivos: aproximar a curva da doença com uma regressão logística (resultado muito bom); e aproximar os parâmetros encontrados para a curva logística através dos índices socioeconômicos apenas (resultado não tão bom). Ambos os modelos tentam prever o número de casos cumulativos por país por dia."
   ]
  }
 ],
 "metadata": {
  "kernelspec": {
   "display_name": "Python 3",
   "language": "python",
   "name": "python3"
  },
  "language_info": {
   "codemirror_mode": {
    "name": "ipython",
    "version": 3
   },
   "file_extension": ".py",
   "mimetype": "text/x-python",
   "name": "python",
   "nbconvert_exporter": "python",
   "pygments_lexer": "ipython3",
   "version": "3.7.6"
  }
 },
 "nbformat": 4,
 "nbformat_minor": 4
}
