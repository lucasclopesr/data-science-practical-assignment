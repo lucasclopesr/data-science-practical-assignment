{
 "cells": [
  {
   "cell_type": "markdown",
   "metadata": {},
   "source": [
    "# ICD - Projeto Final: Estudo da progressão do COVID-19 pelo mundo e sua relação com índices socioeconômicos dos países\n",
    "\n",
    "\n",
    "\n"
   ]
  },
  {
   "cell_type": "markdown",
   "metadata": {},
   "source": [
    "## Integrantes\n",
    "Francisco Bonome Andrade \n",
    "\n",
    "Lucas Caetano Lopes Rodrigues\n",
    "\n",
    "Lucas Mundim\n",
    "\n",
    "Pedro Tavares de Carvalho\n",
    "\n",
    "Vitoria Mirella Pereira do Nascimento"
   ]
  },
  {
   "cell_type": "markdown",
   "metadata": {},
   "source": [
    "## Introdução"
   ]
  },
  {
   "cell_type": "markdown",
   "metadata": {},
   "source": [
    "   Este trabalho objetiva abordar e analisar aspectos acerca do tema COVID-19, doença causada pelo coronavírus, vírus causador da pandemia global vivida por todos atualmente.\n",
    "   Dessa forma, o projeto foca em analisar o impacto da doença nos países ao redor do mundo (como eles foram afetados pela pandemia), levando em conta questões como IDH, temperatura anual média, acesso à agua potável, etc.\n",
    "  \n",
    "Tal análise objetiva contribuir com a previsão de qual será o impacto da doença à médio/longo prazo nesses países baseando-se em suas caracteristicas climáticas e socioeconômicas."
   ]
  },
  {
   "cell_type": "markdown",
   "metadata": {},
   "source": [
    "## Motivação"
   ]
  },
  {
   "cell_type": "markdown",
   "metadata": {},
   "source": [
    "A motivação para o tema escolhido nesse trabalho baseia-se na tentativa de entender melhor a pandemia em que o mundo está vivendo, além de prever o impacto que ela causará a médio/longo prazo na vida de todos, entendendo também de que forma as questões socioecômicas e climáticas afetam esse impacto."
   ]
  },
  {
   "cell_type": "markdown",
   "metadata": {},
   "source": [
    "## Perguntas"
   ]
  },
  {
   "cell_type": "markdown",
   "metadata": {},
   "source": [
    "Qual a curva mais adequada para predição de casos de Covid?\n",
    "\n",
    "Fatores climáticos e socioeconômicos podem impactar na propagação da doença?\n",
    "\n",
    "É possível prever a propagação da Covid19 baseando-se nesses fatores?"
   ]
  },
  {
   "cell_type": "markdown",
   "metadata": {},
   "source": [
    "## Dados utilizados "
   ]
  },
  {
   "cell_type": "code",
   "execution_count": 1,
   "metadata": {},
   "outputs": [
    {
     "data": {
      "image/png": "[encoded data removed]",
      "text/plain": [
       "<IPython.core.display.Image object>"
      ]
     },
     "execution_count": 1,
     "metadata": {},
     "output_type": "execute_result"
    }
   ],
   "source": [
    "from IPython.display import Image\n",
    "Image('../images/csv_mundo_image.png')"
   ]
  },
  {
   "cell_type": "markdown",
   "metadata": {},
   "source": [
    "Descrição : Conjuntos de CSVs, retiradas de diversas fontes, com várias informações utilizadas ao longo das análises.\n",
    "\n",
    "Fontes: "
   ]
  },
  {
   "cell_type": "markdown",
   "metadata": {},
   "source": [
    "## Limpeza dos dados "
   ]
  },
  {
   "cell_type": "markdown",
   "metadata": {},
   "source": [
    "A forma como as tabelas foram tratadas estão relatadas no início do/dos notebook(s) que a(s) usam, por fins de adequação ao contexto."
   ]
  },
  {
   "cell_type": "markdown",
   "metadata": {},
   "source": [
    "## Ler notebook Relatorio_Mundo "
   ]
  },
  {
   "cell_type": "markdown",
   "metadata": {},
   "source": [
    "## Ler notebook Relatorio_TestesDeHipotese"
   ]
  },
  {
   "cell_type": "code",
   "execution_count": null,
   "metadata": {},
   "outputs": [],
   "source": []
  }
 ],
 "metadata": {
  "kernelspec": {
   "display_name": "Python 3",
   "language": "python",
   "name": "python3"
  },
  "language_info": {
   "codemirror_mode": {
    "name": "ipython",
    "version": 3
   },
   "file_extension": ".py",
   "mimetype": "text/x-python",
   "name": "python",
   "nbconvert_exporter": "python",
   "pygments_lexer": "ipython3",
   "version": "3.8.3"
  }
 },
 "nbformat": 4,
 "nbformat_minor": 4
}
