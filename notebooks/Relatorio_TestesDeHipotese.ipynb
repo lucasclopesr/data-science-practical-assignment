{
 "cells": [
  {
   "cell_type": "markdown",
   "metadata": {},
   "source": [
    "## Testes de hipóteses: influência dos índices socioeconômicos no impacto do COVID-19\n",
    "\n",
    "Agora juntaremos os dados socioconômicos dos países com os dados da evolução do Covid para tentar explorar a relação entre os índices socioeconômicos e a evolução da doença. Primeiro, testaremos as seguintes hipóteses utilizando testes de permutação. As decisões envolvidas na modelagem dos teste estão descritas abaixo: \n",
    "\n",
    "1. O IDH do país influencia o número máximo de casos totais que o país atingiu?\n",
    "    - IDH foi dividido nas categorias: \"alto\" (1) para IDH acima de 0.759 e \"baixo\" (0) para IDH abaixo de 0.759;\n",
    "    - A métrica utilizada ao longo das permutações é a diferença média de casos cumulativos por mil habitantes\n",
    "      entre países com IDH \"alto\" e países com IDH \"baixo\".\n",
    "2. O Gasto com saúde per capita do país influencia o número máximo de casos totais que o país atingiu?\n",
    "    - O Gasto com saúde per capita foi dividido nas categorias \"acima da mediana\" (1) e \"abaixo da mediana\" (0);\n",
    "    - A métrica utilizada ao longo das permutações é a diferença média de casos cumulativos por mil habitantes\n",
    "      entre países com gasto com saúde per capita \"acima da mediana\" e países com gasto com saúde per capita\n",
    "      \"abaixo da mediana\".\n",
    "3. A temperatura média do país influencia o número máximo de casos totais que o país atingiu?\n",
    "    - A temperatura média foi dividida nas categorias \"acima da média\" (1) e \"abaixo da média\" (0).\n",
    "    - A métrica utilizada ao longo das permutações é a diferença média de casos cumulativos por mil habitantes\n",
    "      entre países com gasto com temperatura média \"acima da média\" e países com temperatura média\n",
    "      \"abaixo da média\".\n",
    "\n",
    "Como a população total influencia no número máximo de casos totais de cada país, a coluna \"cumulative_cases_per_thousand\" foi criada dividindo a coluna \"Cumulative_cases\" pela coluna \"pop_total\" e multiplicando por 1000, representando número máximo de casos totais por mil habitantes para cada país."
   ]
  },
  {
   "cell_type": "code",
   "execution_count": 1,
   "metadata": {},
   "outputs": [],
   "source": [
    "import numpy as np\n",
    "import matplotlib.pyplot as plt\n",
    "import matplotlib.dates as dt\n",
    "import pandas as pd\n",
    "import math\n",
    "\n",
    "from sklearn.linear_model import LinearRegression\n",
    "\n",
    "from sklearn.model_selection import train_test_split\n",
    "from sklearn.model_selection import cross_validate\n",
    "from sklearn.preprocessing import StandardScaler"
   ]
  },
  {
   "cell_type": "code",
   "execution_count": 2,
   "metadata": {},
   "outputs": [],
   "source": [
    "# Importa dados socioeconômicos dos países\n",
    "df_world_soc = pd.read_csv(\"../databases/worldInfo_v2.csv\")\n",
    "df_world_soc.loc[:, \"Country\"] = df_world_soc.loc[:, \"Country\"].astype(\"category\")\n",
    "\n",
    "# Importa dados do COVID-19 para cada país\n",
    "df_world_spread = pd.read_csv(\"../databases/worldCovid_v2.csv\")\n",
    "df_world_spread.loc[:, \"Date_reported\"] = pd.to_datetime(df_world_spread.loc[:, \"Date_reported\"], format=\"%Y-%m-%d\")\n",
    "df_world_spread.loc[:, \"Country\"] = df_world_spread.loc[:, \"Country\"].astype(\"category\")"
   ]
  },
  {
   "cell_type": "code",
   "execution_count": 5,
   "metadata": {},
   "outputs": [
    {
     "data": {
      "text/html": [
       "<div>\n",
       "<style scoped>\n",
       "    .dataframe tbody tr th:only-of-type {\n",
       "        vertical-align: middle;\n",
       "    }\n",
       "\n",
       "    .dataframe tbody tr th {\n",
       "        vertical-align: top;\n",
       "    }\n",
       "\n",
       "    .dataframe thead th {\n",
       "        text-align: right;\n",
       "    }\n",
       "</style>\n",
       "<table border=\"1\" class=\"dataframe\">\n",
       "  <thead>\n",
       "    <tr style=\"text-align: right;\">\n",
       "      <th></th>\n",
       "      <th>Unnamed: 0</th>\n",
       "      <th>Country</th>\n",
       "      <th>IDH</th>\n",
       "      <th>GNI_per_capita</th>\n",
       "      <th>pop_total</th>\n",
       "      <th>densidade_pop</th>\n",
       "      <th>pop_idade</th>\n",
       "      <th>pop_urbana</th>\n",
       "      <th>chegada_turistas</th>\n",
       "      <th>gasto_saude_per_capita</th>\n",
       "      <th>acesso_agua</th>\n",
       "      <th>temp_media</th>\n",
       "      <th>area_floresta</th>\n",
       "      <th>precipitacao</th>\n",
       "      <th>Cumulative_cases</th>\n",
       "      <th>cumulative_cases_per_thousand</th>\n",
       "    </tr>\n",
       "  </thead>\n",
       "  <tbody>\n",
       "    <tr>\n",
       "      <th>0</th>\n",
       "      <td>0</td>\n",
       "      <td>NORWAY</td>\n",
       "      <td>0.95</td>\n",
       "      <td>68058.62</td>\n",
       "      <td>5421241.0</td>\n",
       "      <td>15.0</td>\n",
       "      <td>40.0</td>\n",
       "      <td>0.83</td>\n",
       "      <td>5688000.0</td>\n",
       "      <td>7936.38</td>\n",
       "      <td>1.00</td>\n",
       "      <td>1.50</td>\n",
       "      <td>0.33</td>\n",
       "      <td>1414.0</td>\n",
       "      <td>17232</td>\n",
       "      <td>3.178608</td>\n",
       "    </tr>\n",
       "    <tr>\n",
       "      <th>1</th>\n",
       "      <td>1</td>\n",
       "      <td>SWITZERLAND</td>\n",
       "      <td>0.95</td>\n",
       "      <td>59374.73</td>\n",
       "      <td>8654622.0</td>\n",
       "      <td>219.0</td>\n",
       "      <td>43.0</td>\n",
       "      <td>0.74</td>\n",
       "      <td>10362000.0</td>\n",
       "      <td>9956.26</td>\n",
       "      <td>1.00</td>\n",
       "      <td>5.50</td>\n",
       "      <td>0.32</td>\n",
       "      <td>1537.0</td>\n",
       "      <td>103323</td>\n",
       "      <td>11.938476</td>\n",
       "    </tr>\n",
       "    <tr>\n",
       "      <th>2</th>\n",
       "      <td>2</td>\n",
       "      <td>IRELAND</td>\n",
       "      <td>0.94</td>\n",
       "      <td>55659.68</td>\n",
       "      <td>4937786.0</td>\n",
       "      <td>72.0</td>\n",
       "      <td>38.0</td>\n",
       "      <td>0.63</td>\n",
       "      <td>10926000.0</td>\n",
       "      <td>4976.86</td>\n",
       "      <td>0.98</td>\n",
       "      <td>9.30</td>\n",
       "      <td>0.11</td>\n",
       "      <td>1118.0</td>\n",
       "      <td>55261</td>\n",
       "      <td>11.191453</td>\n",
       "    </tr>\n",
       "    <tr>\n",
       "      <th>3</th>\n",
       "      <td>3</td>\n",
       "      <td>GERMANY</td>\n",
       "      <td>0.94</td>\n",
       "      <td>46945.95</td>\n",
       "      <td>83783942.0</td>\n",
       "      <td>240.0</td>\n",
       "      <td>46.0</td>\n",
       "      <td>0.76</td>\n",
       "      <td>38881000.0</td>\n",
       "      <td>5033.45</td>\n",
       "      <td>1.00</td>\n",
       "      <td>8.50</td>\n",
       "      <td>0.33</td>\n",
       "      <td>700.0</td>\n",
       "      <td>418005</td>\n",
       "      <td>4.989083</td>\n",
       "    </tr>\n",
       "    <tr>\n",
       "      <th>4</th>\n",
       "      <td>4</td>\n",
       "      <td>AUSTRALIA</td>\n",
       "      <td>0.94</td>\n",
       "      <td>44097.02</td>\n",
       "      <td>25499884.0</td>\n",
       "      <td>3.0</td>\n",
       "      <td>38.0</td>\n",
       "      <td>0.86</td>\n",
       "      <td>9246000.0</td>\n",
       "      <td>5331.82</td>\n",
       "      <td>1.00</td>\n",
       "      <td>21.65</td>\n",
       "      <td>0.16</td>\n",
       "      <td>534.0</td>\n",
       "      <td>27484</td>\n",
       "      <td>1.077809</td>\n",
       "    </tr>\n",
       "    <tr>\n",
       "      <th>...</th>\n",
       "      <td>...</td>\n",
       "      <td>...</td>\n",
       "      <td>...</td>\n",
       "      <td>...</td>\n",
       "      <td>...</td>\n",
       "      <td>...</td>\n",
       "      <td>...</td>\n",
       "      <td>...</td>\n",
       "      <td>...</td>\n",
       "      <td>...</td>\n",
       "      <td>...</td>\n",
       "      <td>...</td>\n",
       "      <td>...</td>\n",
       "      <td>...</td>\n",
       "      <td>...</td>\n",
       "      <td>...</td>\n",
       "    </tr>\n",
       "    <tr>\n",
       "      <th>111</th>\n",
       "      <td>111</td>\n",
       "      <td>MOZAMBIQUE</td>\n",
       "      <td>0.45</td>\n",
       "      <td>1153.70</td>\n",
       "      <td>31255435.0</td>\n",
       "      <td>40.0</td>\n",
       "      <td>18.0</td>\n",
       "      <td>0.38</td>\n",
       "      <td>2743000.0</td>\n",
       "      <td>21.07</td>\n",
       "      <td>0.81</td>\n",
       "      <td>23.80</td>\n",
       "      <td>0.48</td>\n",
       "      <td>1032.0</td>\n",
       "      <td>11748</td>\n",
       "      <td>0.375871</td>\n",
       "    </tr>\n",
       "    <tr>\n",
       "      <th>112</th>\n",
       "      <td>112</td>\n",
       "      <td>SIERRA LEONE</td>\n",
       "      <td>0.44</td>\n",
       "      <td>1381.30</td>\n",
       "      <td>7976983.0</td>\n",
       "      <td>111.0</td>\n",
       "      <td>19.0</td>\n",
       "      <td>0.43</td>\n",
       "      <td>57000.0</td>\n",
       "      <td>66.40</td>\n",
       "      <td>0.85</td>\n",
       "      <td>26.05</td>\n",
       "      <td>0.43</td>\n",
       "      <td>2526.0</td>\n",
       "      <td>2343</td>\n",
       "      <td>0.293720</td>\n",
       "    </tr>\n",
       "    <tr>\n",
       "      <th>113</th>\n",
       "      <td>113</td>\n",
       "      <td>BURKINA FASO</td>\n",
       "      <td>0.43</td>\n",
       "      <td>1705.49</td>\n",
       "      <td>20903273.0</td>\n",
       "      <td>76.0</td>\n",
       "      <td>18.0</td>\n",
       "      <td>0.31</td>\n",
       "      <td>144000.0</td>\n",
       "      <td>44.40</td>\n",
       "      <td>0.98</td>\n",
       "      <td>28.25</td>\n",
       "      <td>0.19</td>\n",
       "      <td>748.0</td>\n",
       "      <td>2433</td>\n",
       "      <td>0.116393</td>\n",
       "    </tr>\n",
       "    <tr>\n",
       "      <th>114</th>\n",
       "      <td>114</td>\n",
       "      <td>MALI</td>\n",
       "      <td>0.43</td>\n",
       "      <td>1965.39</td>\n",
       "      <td>20250833.0</td>\n",
       "      <td>17.0</td>\n",
       "      <td>16.0</td>\n",
       "      <td>0.44</td>\n",
       "      <td>14000.0</td>\n",
       "      <td>31.38</td>\n",
       "      <td>0.96</td>\n",
       "      <td>28.25</td>\n",
       "      <td>0.04</td>\n",
       "      <td>282.0</td>\n",
       "      <td>3440</td>\n",
       "      <td>0.169870</td>\n",
       "    </tr>\n",
       "    <tr>\n",
       "      <th>115</th>\n",
       "      <td>115</td>\n",
       "      <td>NIGER</td>\n",
       "      <td>0.38</td>\n",
       "      <td>912.04</td>\n",
       "      <td>24206644.0</td>\n",
       "      <td>19.0</td>\n",
       "      <td>15.0</td>\n",
       "      <td>0.17</td>\n",
       "      <td>157000.0</td>\n",
       "      <td>29.26</td>\n",
       "      <td>1.00</td>\n",
       "      <td>27.15</td>\n",
       "      <td>0.01</td>\n",
       "      <td>151.0</td>\n",
       "      <td>1215</td>\n",
       "      <td>0.050193</td>\n",
       "    </tr>\n",
       "  </tbody>\n",
       "</table>\n",
       "<p>116 rows × 16 columns</p>\n",
       "</div>"
      ],
      "text/plain": [
       "     Unnamed: 0       Country   IDH  GNI_per_capita   pop_total  \\\n",
       "0             0        NORWAY  0.95        68058.62   5421241.0   \n",
       "1             1   SWITZERLAND  0.95        59374.73   8654622.0   \n",
       "2             2       IRELAND  0.94        55659.68   4937786.0   \n",
       "3             3       GERMANY  0.94        46945.95  83783942.0   \n",
       "4             4     AUSTRALIA  0.94        44097.02  25499884.0   \n",
       "..          ...           ...   ...             ...         ...   \n",
       "111         111    MOZAMBIQUE  0.45         1153.70  31255435.0   \n",
       "112         112  SIERRA LEONE  0.44         1381.30   7976983.0   \n",
       "113         113  BURKINA FASO  0.43         1705.49  20903273.0   \n",
       "114         114          MALI  0.43         1965.39  20250833.0   \n",
       "115         115         NIGER  0.38          912.04  24206644.0   \n",
       "\n",
       "     densidade_pop  pop_idade  pop_urbana  chegada_turistas  \\\n",
       "0             15.0       40.0        0.83         5688000.0   \n",
       "1            219.0       43.0        0.74        10362000.0   \n",
       "2             72.0       38.0        0.63        10926000.0   \n",
       "3            240.0       46.0        0.76        38881000.0   \n",
       "4              3.0       38.0        0.86         9246000.0   \n",
       "..             ...        ...         ...               ...   \n",
       "111           40.0       18.0        0.38         2743000.0   \n",
       "112          111.0       19.0        0.43           57000.0   \n",
       "113           76.0       18.0        0.31          144000.0   \n",
       "114           17.0       16.0        0.44           14000.0   \n",
       "115           19.0       15.0        0.17          157000.0   \n",
       "\n",
       "     gasto_saude_per_capita  acesso_agua  temp_media  area_floresta  \\\n",
       "0                   7936.38         1.00        1.50           0.33   \n",
       "1                   9956.26         1.00        5.50           0.32   \n",
       "2                   4976.86         0.98        9.30           0.11   \n",
       "3                   5033.45         1.00        8.50           0.33   \n",
       "4                   5331.82         1.00       21.65           0.16   \n",
       "..                      ...          ...         ...            ...   \n",
       "111                   21.07         0.81       23.80           0.48   \n",
       "112                   66.40         0.85       26.05           0.43   \n",
       "113                   44.40         0.98       28.25           0.19   \n",
       "114                   31.38         0.96       28.25           0.04   \n",
       "115                   29.26         1.00       27.15           0.01   \n",
       "\n",
       "     precipitacao  Cumulative_cases  cumulative_cases_per_thousand  \n",
       "0          1414.0             17232                       3.178608  \n",
       "1          1537.0            103323                      11.938476  \n",
       "2          1118.0             55261                      11.191453  \n",
       "3           700.0            418005                       4.989083  \n",
       "4           534.0             27484                       1.077809  \n",
       "..            ...               ...                            ...  \n",
       "111        1032.0             11748                       0.375871  \n",
       "112        2526.0              2343                       0.293720  \n",
       "113         748.0              2433                       0.116393  \n",
       "114         282.0              3440                       0.169870  \n",
       "115         151.0              1215                       0.050193  \n",
       "\n",
       "[116 rows x 16 columns]"
      ]
     },
     "execution_count": 5,
     "metadata": {},
     "output_type": "execute_result"
    }
   ],
   "source": [
    "# Criação de um dataframe contendo dados socioeconômicos e o número máximo de casos totais\n",
    "# por mil habitantes para cada país\n",
    "df_merge = pd.merge(df_world_spread, df_world_soc, on='Country')\n",
    "df_cumulative_cases = df_merge.groupby('Country')['Cumulative_cases'].max().to_frame()\n",
    "df_world_soc_cumulative_cases = pd.merge(df_world_soc, df_cumulative_cases, on=['Country'])\n",
    "df_world_soc_cumulative_cases['cumulative_cases_per_thousand'] = df_world_soc_cumulative_cases['Cumulative_cases'] / df_world_soc_cumulative_cases['pop_total'] * 1000\n",
    "df_world_soc_cumulative_cases"
   ]
  },
  {
   "cell_type": "markdown",
   "metadata": {},
   "source": [
    "## Teste de hipótese 1: O IDH do país influencia o número máximo de casos totais que o país atingiu?"
   ]
  },
  {
   "cell_type": "code",
   "execution_count": 6,
   "metadata": {},
   "outputs": [],
   "source": [
    "def generate_permutation(filter_):\n",
    "    diferencas = np.zeros(5000)\n",
    "    for i in range(5000):\n",
    "        np.random.shuffle(filter_)\n",
    "        diferencas[i] = cases_idh[filter_]['cumulative_cases_per_thousand'].mean() - cases_idh[~filter_]['cumulative_cases_per_thousand'].mean()\n",
    "    \n",
    "    return diferencas"
   ]
  },
  {
   "cell_type": "code",
   "execution_count": 7,
   "metadata": {},
   "outputs": [],
   "source": [
    "# Teste de permutação para IDH e Máximo de casos acumulados\n",
    "# Hipótese: o IDH influencia o número total de casos por mil habitantes\n",
    "\n",
    "cases_idh = df_world_soc_cumulative_cases[['Country', 'cumulative_cases_per_thousand', 'IDH']].copy().set_index('Country')\n",
    "cases_idh['idh_score'] = 0\n",
    "\n",
    "for country in set(df_world_soc['Country']):\n",
    "    # Divisão de países por IDH:\n",
    "    # Acima de 0.759 = alto\n",
    "    # Abaixo de 0.759 = Baixo\n",
    "    idh_score = 0\n",
    "    if (cases_idh.loc[[country], :]['IDH'].values[0] >= 0.759):\n",
    "        # Valor retirado de https://mundoeducacao.uol.com.br/geografia/paises-desenvolvidos.htm\n",
    "        idh_score = 1\n",
    "    \n",
    "    cases_idh.at[country, 'idh_score'] = idh_score"
   ]
  },
  {
   "cell_type": "code",
   "execution_count": 8,
   "metadata": {},
   "outputs": [
    {
     "data": {
      "text/plain": [
       "7.319891632019598"
      ]
     },
     "execution_count": 8,
     "metadata": {},
     "output_type": "execute_result"
    }
   ],
   "source": [
    "# Diferença real das médias (IDH)\n",
    "is_idh_alto = cases_idh['idh_score'] == 1\n",
    "diff_real_idh = cases_idh[is_idh_alto]['cumulative_cases_per_thousand'].mean() - cases_idh[~is_idh_alto]['cumulative_cases_per_thousand'].mean()\n",
    "diff_real_idh"
   ]
  },
  {
   "cell_type": "code",
   "execution_count": 9,
   "metadata": {},
   "outputs": [],
   "source": [
    "diferencas = generate_permutation(is_idh_alto)"
   ]
  },
  {
   "cell_type": "code",
   "execution_count": 10,
   "metadata": {},
   "outputs": [
    {
     "data": {
      "image/png": "[encoded data removed]",
      "text/plain": [
       "<Figure size 432x288 with 1 Axes>"
      ]
     },
     "metadata": {
      "needs_background": "light"
     },
     "output_type": "display_data"
    }
   ],
   "source": [
    "plt.hist(diferencas, bins=50, edgecolor='k')\n",
    "plt.axvline(x=diff_real_idh, color='green', label=\"Diferença das médias original\")\n",
    "plt.xlabel('Diferença na Permutação (IDH)')\n",
    "plt.ylabel('Pr(diff)')\n",
    "plt.legend()\n",
    "plt.show()"
   ]
  },
  {
   "cell_type": "markdown",
   "metadata": {},
   "source": [
    "### Pelo teste de hipótese acima rejeitamos a hipótese nula: o IDH de cada país parece ter um impacto alto no número máximo de casos por mil habitantes"
   ]
  },
  {
   "cell_type": "markdown",
   "metadata": {},
   "source": [
    "## Teste de hipótese 2: O Gasto com saúde per capita do país influencia o número máximo de casos totais que o país atingiu?"
   ]
  },
  {
   "cell_type": "code",
   "execution_count": 11,
   "metadata": {},
   "outputs": [],
   "source": [
    "# Teste de permutação para Gasto com saúde per capita e Máximo de casos acumulados\n",
    "# Hipótese: o Gasto com saúde per capita influencia o número total de casos por mil habitantes\n",
    "\n",
    "mediana_gasto_saude = df_world_soc['gasto_saude_per_capita'].median()\n",
    "cases_saude = df_world_soc_cumulative_cases[['Country', 'cumulative_cases_per_thousand', 'gasto_saude_per_capita']].copy().set_index('Country')\n",
    "cases_saude['saude_score'] = 0\n",
    "\n",
    "for country in set(df_world_soc['Country']):\n",
    "    # Divisão de países por Gasto de saúde - acima ou abaixo da mediana\n",
    "    saude_score = 0\n",
    "    if (cases_saude.loc[[country], :]['gasto_saude_per_capita'].values[0] >= mediana_gasto_saude):\n",
    "        saude_score = 1\n",
    "    \n",
    "    cases_saude.at[country, 'saude_score'] = saude_score"
   ]
  },
  {
   "cell_type": "code",
   "execution_count": 12,
   "metadata": {},
   "outputs": [
    {
     "data": {
      "text/plain": [
       "7.377569543331875"
      ]
     },
     "execution_count": 12,
     "metadata": {},
     "output_type": "execute_result"
    }
   ],
   "source": [
    "# Diferença real das médias (gasto_saude_per_capita)\n",
    "is_gasto_acima_mediana = cases_saude['saude_score'] == 1\n",
    "diff_real_saude = cases_saude[is_gasto_acima_mediana]['cumulative_cases_per_thousand'].mean() - cases_saude[~is_gasto_acima_mediana]['cumulative_cases_per_thousand'].mean()\n",
    "diff_real_saude"
   ]
  },
  {
   "cell_type": "code",
   "execution_count": 13,
   "metadata": {},
   "outputs": [],
   "source": [
    "diferencas = generate_permutation(is_gasto_acima_mediana)"
   ]
  },
  {
   "cell_type": "code",
   "execution_count": 14,
   "metadata": {},
   "outputs": [
    {
     "data": {
      "image/png": "[encoded data removed]",
      "text/plain": [
       "<Figure size 432x288 with 1 Axes>"
      ]
     },
     "metadata": {
      "needs_background": "light"
     },
     "output_type": "display_data"
    }
   ],
   "source": [
    "plt.hist(diferencas, bins=50, edgecolor='k')\n",
    "plt.axvline(x=diff_real_saude, color='green', label=\"Diferença das médias original\")\n",
    "plt.xlabel('Diferença na Permutação (saúde)')\n",
    "plt.ylabel('Pr(diff)')\n",
    "plt.legend()\n",
    "plt.show()"
   ]
  },
  {
   "cell_type": "markdown",
   "metadata": {},
   "source": [
    "### Pelo teste de hipótese acima rejeitamos a hipótese nula: o gasto com saúde per capita de cada país parece ter um impacto alto no número máximo de casos por mil habitantes"
   ]
  },
  {
   "cell_type": "markdown",
   "metadata": {},
   "source": [
    "## Teste de hipótese 3: A temperatura média do país influencia o número máximo de casos totais que o país atingiu?"
   ]
  },
  {
   "cell_type": "code",
   "execution_count": 15,
   "metadata": {},
   "outputs": [],
   "source": [
    "# Teste de permutação para Temperatura média e Máximo de casos acumulados\n",
    "# Hipótese: a temperatura média do país influencia o número total de casos por mil habitantes\n",
    "\n",
    "media_temperatura = df_world_soc['temp_media'].mean()\n",
    "cases_temp = df_world_soc_cumulative_cases[['Country', 'cumulative_cases_per_thousand', 'temp_media']].copy().set_index('Country')\n",
    "cases_temp['temp_score'] = 0\n",
    "\n",
    "for country in set(df_world_soc['Country']):\n",
    "    # Divisão de países por Gasto de saúde - acima ou abaixo da média\n",
    "    temp_score = 0\n",
    "    if (cases_temp.loc[[country], :]['temp_media'].values[0] >= media_temperatura):\n",
    "        temp_score = 1\n",
    "    \n",
    "    cases_temp.at[country, 'temp_score'] = temp_score"
   ]
  },
  {
   "cell_type": "code",
   "execution_count": 16,
   "metadata": {},
   "outputs": [
    {
     "data": {
      "text/plain": [
       "-2.069523801705045"
      ]
     },
     "execution_count": 16,
     "metadata": {},
     "output_type": "execute_result"
    }
   ],
   "source": [
    "is_temperatura_acima_media = cases_temp['temp_score'] == 1\n",
    "diff_real_temperatura = cases_temp[is_temperatura_acima_media]['cumulative_cases_per_thousand'].mean() - cases_temp[~is_temperatura_acima_media]['cumulative_cases_per_thousand'].mean()\n",
    "diff_real_temperatura"
   ]
  },
  {
   "cell_type": "code",
   "execution_count": 17,
   "metadata": {},
   "outputs": [],
   "source": [
    "diferencas = generate_permutation(is_temperatura_acima_media)"
   ]
  },
  {
   "cell_type": "code",
   "execution_count": 18,
   "metadata": {},
   "outputs": [
    {
     "data": {
      "image/png": "[encoded data removed]",
      "text/plain": [
       "<Figure size 432x288 with 1 Axes>"
      ]
     },
     "metadata": {
      "needs_background": "light"
     },
     "output_type": "display_data"
    }
   ],
   "source": [
    "plt.hist(diferencas, bins=50, edgecolor='k')\n",
    "plt.axvline(x=media_temperatura, color='green', label=\"Diferença das médias original\")\n",
    "plt.xlabel('Diferença na Permutação (temperatura)')\n",
    "plt.ylabel('Pr(diff)')\n",
    "plt.legend()\n",
    "plt.show()"
   ]
  },
  {
   "cell_type": "markdown",
   "metadata": {},
   "source": [
    "### Pelo teste de hipótese acima rejeitamos a hipótese nula: a temperatura de cada país parece ter um impacto alto no número máximo de casos por mil habitantes"
   ]
  },
  {
   "cell_type": "markdown",
   "metadata": {},
   "source": [
    "## Análise da relação de IDH, Gasto com saúde per capita e temperatura com o número máximo de total de casos por país"
   ]
  },
  {
   "cell_type": "markdown",
   "metadata": {},
   "source": [
    "Como podemos ver pelos testes acima, os três fatores escolhidos - IDH, gasto com saúde per capita e temperatura média - parecem estar fortemente relacionados com o número total de casos por mil habitantes. Gostaríamos então de descobrir como se dá essa relação."
   ]
  },
  {
   "cell_type": "code",
   "execution_count": 19,
   "metadata": {},
   "outputs": [
    {
     "data": {
      "text/plain": [
       "Text(0.5, 1.0, 'Relação entre IDH e Casos cumulativos')"
      ]
     },
     "execution_count": 19,
     "metadata": {},
     "output_type": "execute_result"
    },
    {
     "data": {
      "image/png": "[encoded data removed]",
      "text/plain": [
       "<Figure size 432x288 with 1 Axes>"
      ]
     },
     "metadata": {
      "needs_background": "light"
     },
     "output_type": "display_data"
    }
   ],
   "source": [
    "plt.scatter(df_world_soc_cumulative_cases['cumulative_cases_per_thousand'], df_world_soc_cumulative_cases['IDH'])\n",
    "plt.xlabel('Casos cumulativos total por mil habitantes')\n",
    "plt.ylabel('IDH')\n",
    "plt.title('Relação entre IDH e Casos cumulativos')"
   ]
  },
  {
   "cell_type": "code",
   "execution_count": 20,
   "metadata": {},
   "outputs": [
    {
     "data": {
      "text/plain": [
       "Text(0.5, 1.0, 'Relação entre Gasto com saúde per capita e Casos cumulativos')"
      ]
     },
     "execution_count": 20,
     "metadata": {},
     "output_type": "execute_result"
    },
    {
     "data": {
      "image/png": "[encoded data removed]",
      "text/plain": [
       "<Figure size 432x288 with 1 Axes>"
      ]
     },
     "metadata": {
      "needs_background": "light"
     },
     "output_type": "display_data"
    }
   ],
   "source": [
    "plt.scatter(df_world_soc_cumulative_cases['cumulative_cases_per_thousand'], df_world_soc_cumulative_cases['gasto_saude_per_capita'])\n",
    "plt.xlabel('Casos cumulativos total por mil habitantes')\n",
    "plt.ylabel('Gasto com saúde per capita')\n",
    "plt.title('Relação entre Gasto com saúde per capita e Casos cumulativos')"
   ]
  },
  {
   "cell_type": "code",
   "execution_count": 21,
   "metadata": {},
   "outputs": [
    {
     "data": {
      "text/plain": [
       "Text(0.5, 1.0, 'Relação entre Temperatura Média e Casos cumulativos')"
      ]
     },
     "execution_count": 21,
     "metadata": {},
     "output_type": "execute_result"
    },
    {
     "data": {
      "image/png": "[encoded data removed]",
      "text/plain": [
       "<Figure size 432x288 with 1 Axes>"
      ]
     },
     "metadata": {
      "needs_background": "light"
     },
     "output_type": "display_data"
    }
   ],
   "source": [
    "plt.scatter(df_world_soc_cumulative_cases['cumulative_cases_per_thousand'], df_world_soc_cumulative_cases['temp_media'])\n",
    "plt.xlabel('Casos cumulativos total por mil habitantes')\n",
    "plt.ylabel('Temperatura média')\n",
    "plt.title('Relação entre Temperatura Média e Casos cumulativos')"
   ]
  },
  {
   "cell_type": "markdown",
   "metadata": {},
   "source": [
    "Através dos _scatterplots_ podemos ver que as relações entre os atributos não é linear, e portanto precisaríamos de modelos adequados para tentar prever o número de casos cumulativos total por mil habitantes para cada atributo."
   ]
  }
 ],
 "metadata": {
  "kernelspec": {
   "display_name": "Python 3",
   "language": "python",
   "name": "python3"
  },
  "language_info": {
   "codemirror_mode": {
    "name": "ipython",
    "version": 3
   },
   "file_extension": ".py",
   "mimetype": "text/x-python",
   "name": "python",
   "nbconvert_exporter": "python",
   "pygments_lexer": "ipython3",
   "version": "3.7.6"
  }
 },
 "nbformat": 4,
 "nbformat_minor": 4
}
