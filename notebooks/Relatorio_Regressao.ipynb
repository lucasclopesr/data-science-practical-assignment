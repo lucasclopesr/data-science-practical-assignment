{
 "cells": [
  {
   "cell_type": "markdown",
   "metadata": {
    "id": "SNgueb2qMTeF"
   },
   "source": [
    "# Regressão de curva  logística\n",
    "A modelagem da progressão de doenças pode ser feita de várias maneiras, mas a maioria delas tem uma curva logística como resultado. Essa curva pode ser regredida a partir dos dados da progressão atual e da função logística, caracterizada por\n",
    "$$\n",
    "Q(t)=\\frac{K}{1+a\\exp(-bt)}\n",
    "$$\n",
    "onde $K$ pode ser considerado o limite superior de número de casos, $a$ é uma constante, $b$ é a taxa de incubação da doença, e $t$ é o tempo passado até o momento em dias.\n",
    "\n",
    "O objetivo desse notebook é conseguir estimar os parâmetros $a$, $b$ e $K$ do crescimento do COVID-19 em um país a partir dos dados socioeconômicos do prório.\n",
    "\n",
    "Em um primeiro momento, vamos regredir a curva logística do país utilizando os dados da progressão de sua doença e a função `curve_fit` do `scipy`, que regride uma curva a partir de Quadrados Mínimos não lineares.\n",
    "\n",
    "A partir dos parâmetros obtidos, utilizaremos esses como o alvo de uma nova regressão, dessa vez a partir dos dados socioeconômicos dos países. "
   ]
  },
  {
   "cell_type": "code",
   "execution_count": 1,
   "metadata": {
    "id": "KfjK6Ma93Hap"
   },
   "outputs": [],
   "source": [
    "import pandas as pd\n",
    "import numpy as np\n",
    "import matplotlib.pyplot as plt\n",
    "import seaborn as sns\n",
    "\n",
    "from scipy.optimize import curve_fit\n",
    "from sklearn.model_selection import GridSearchCV\n",
    "from sklearn.metrics import r2_score"
   ]
  },
  {
   "cell_type": "markdown",
   "metadata": {
    "id": "jg1juGyAOo-l"
   },
   "source": [
    "Para utilizarmos a função `curve_fit`, precisamos definir a função que queremos regredir em `python`, o que está feito abaixo."
   ]
  },
  {
   "cell_type": "code",
   "execution_count": 2,
   "metadata": {
    "id": "HeCVywkx32TX"
   },
   "outputs": [],
   "source": [
    "def logistic_curve(t, a, b, K):\n",
    "    return K / (1 + a * np.exp(-b*t))"
   ]
  },
  {
   "cell_type": "markdown",
   "metadata": {
    "id": "avZnQ0jQPVgn"
   },
   "source": [
    "Em seguida, lemos os dados dos países, tanto de progressão do COVID-19, tanto os dados socioeconômicos e geográficos do país."
   ]
  },
  {
   "cell_type": "code",
   "execution_count": 3,
   "metadata": {
    "id": "bZ6BZ3J2S9ww"
   },
   "outputs": [],
   "source": [
    "df_covid = pd.read_csv('../databases/worldCovid_v2.csv',index_col=0)\n",
    "df_info = pd.read_csv('../databases/worldInfo_v2.csv',index_col=0)"
   ]
  },
  {
   "cell_type": "code",
   "execution_count": 4,
   "metadata": {
    "colab": {
     "base_uri": "https://localhost:8080/",
     "height": 470
    },
    "id": "bNyjNl_SMqJr",
    "outputId": "9f1e9e4e-3617-41cd-f78c-6a278e6e9d1c"
   },
   "outputs": [
    {
     "data": {
      "text/html": [
       "<div>\n",
       "<style scoped>\n",
       "    .dataframe tbody tr th:only-of-type {\n",
       "        vertical-align: middle;\n",
       "    }\n",
       "\n",
       "    .dataframe tbody tr th {\n",
       "        vertical-align: top;\n",
       "    }\n",
       "\n",
       "    .dataframe thead th {\n",
       "        text-align: right;\n",
       "    }\n",
       "</style>\n",
       "<table border=\"1\" class=\"dataframe\">\n",
       "  <thead>\n",
       "    <tr style=\"text-align: right;\">\n",
       "      <th></th>\n",
       "      <th>Country</th>\n",
       "      <th>IDH</th>\n",
       "      <th>GNI_per_capita</th>\n",
       "      <th>pop_total</th>\n",
       "      <th>densidade_pop</th>\n",
       "      <th>pop_idade</th>\n",
       "      <th>pop_urbana</th>\n",
       "      <th>chegada_turistas</th>\n",
       "      <th>gasto_saude_per_capita</th>\n",
       "      <th>acesso_agua</th>\n",
       "      <th>temp_media</th>\n",
       "      <th>area_floresta</th>\n",
       "      <th>precipitacao</th>\n",
       "    </tr>\n",
       "  </thead>\n",
       "  <tbody>\n",
       "    <tr>\n",
       "      <th>0</th>\n",
       "      <td>NORWAY</td>\n",
       "      <td>0.95</td>\n",
       "      <td>68058.62</td>\n",
       "      <td>5421241.0</td>\n",
       "      <td>15.0</td>\n",
       "      <td>40.0</td>\n",
       "      <td>0.83</td>\n",
       "      <td>5688000.0</td>\n",
       "      <td>7936.38</td>\n",
       "      <td>1.00</td>\n",
       "      <td>1.50</td>\n",
       "      <td>0.33</td>\n",
       "      <td>1414.0</td>\n",
       "    </tr>\n",
       "    <tr>\n",
       "      <th>1</th>\n",
       "      <td>SWITZERLAND</td>\n",
       "      <td>0.95</td>\n",
       "      <td>59374.73</td>\n",
       "      <td>8654622.0</td>\n",
       "      <td>219.0</td>\n",
       "      <td>43.0</td>\n",
       "      <td>0.74</td>\n",
       "      <td>10362000.0</td>\n",
       "      <td>9956.26</td>\n",
       "      <td>1.00</td>\n",
       "      <td>5.50</td>\n",
       "      <td>0.32</td>\n",
       "      <td>1537.0</td>\n",
       "    </tr>\n",
       "    <tr>\n",
       "      <th>2</th>\n",
       "      <td>IRELAND</td>\n",
       "      <td>0.94</td>\n",
       "      <td>55659.68</td>\n",
       "      <td>4937786.0</td>\n",
       "      <td>72.0</td>\n",
       "      <td>38.0</td>\n",
       "      <td>0.63</td>\n",
       "      <td>10926000.0</td>\n",
       "      <td>4976.86</td>\n",
       "      <td>0.98</td>\n",
       "      <td>9.30</td>\n",
       "      <td>0.11</td>\n",
       "      <td>1118.0</td>\n",
       "    </tr>\n",
       "    <tr>\n",
       "      <th>3</th>\n",
       "      <td>GERMANY</td>\n",
       "      <td>0.94</td>\n",
       "      <td>46945.95</td>\n",
       "      <td>83783942.0</td>\n",
       "      <td>240.0</td>\n",
       "      <td>46.0</td>\n",
       "      <td>0.76</td>\n",
       "      <td>38881000.0</td>\n",
       "      <td>5033.45</td>\n",
       "      <td>1.00</td>\n",
       "      <td>8.50</td>\n",
       "      <td>0.33</td>\n",
       "      <td>700.0</td>\n",
       "    </tr>\n",
       "    <tr>\n",
       "      <th>4</th>\n",
       "      <td>AUSTRALIA</td>\n",
       "      <td>0.94</td>\n",
       "      <td>44097.02</td>\n",
       "      <td>25499884.0</td>\n",
       "      <td>3.0</td>\n",
       "      <td>38.0</td>\n",
       "      <td>0.86</td>\n",
       "      <td>9246000.0</td>\n",
       "      <td>5331.82</td>\n",
       "      <td>1.00</td>\n",
       "      <td>21.65</td>\n",
       "      <td>0.16</td>\n",
       "      <td>534.0</td>\n",
       "    </tr>\n",
       "    <tr>\n",
       "      <th>...</th>\n",
       "      <td>...</td>\n",
       "      <td>...</td>\n",
       "      <td>...</td>\n",
       "      <td>...</td>\n",
       "      <td>...</td>\n",
       "      <td>...</td>\n",
       "      <td>...</td>\n",
       "      <td>...</td>\n",
       "      <td>...</td>\n",
       "      <td>...</td>\n",
       "      <td>...</td>\n",
       "      <td>...</td>\n",
       "      <td>...</td>\n",
       "    </tr>\n",
       "    <tr>\n",
       "      <th>111</th>\n",
       "      <td>MOZAMBIQUE</td>\n",
       "      <td>0.45</td>\n",
       "      <td>1153.70</td>\n",
       "      <td>31255435.0</td>\n",
       "      <td>40.0</td>\n",
       "      <td>18.0</td>\n",
       "      <td>0.38</td>\n",
       "      <td>2743000.0</td>\n",
       "      <td>21.07</td>\n",
       "      <td>0.81</td>\n",
       "      <td>23.80</td>\n",
       "      <td>0.48</td>\n",
       "      <td>1032.0</td>\n",
       "    </tr>\n",
       "    <tr>\n",
       "      <th>112</th>\n",
       "      <td>SIERRA LEONE</td>\n",
       "      <td>0.44</td>\n",
       "      <td>1381.30</td>\n",
       "      <td>7976983.0</td>\n",
       "      <td>111.0</td>\n",
       "      <td>19.0</td>\n",
       "      <td>0.43</td>\n",
       "      <td>57000.0</td>\n",
       "      <td>66.40</td>\n",
       "      <td>0.85</td>\n",
       "      <td>26.05</td>\n",
       "      <td>0.43</td>\n",
       "      <td>2526.0</td>\n",
       "    </tr>\n",
       "    <tr>\n",
       "      <th>113</th>\n",
       "      <td>BURKINA FASO</td>\n",
       "      <td>0.43</td>\n",
       "      <td>1705.49</td>\n",
       "      <td>20903273.0</td>\n",
       "      <td>76.0</td>\n",
       "      <td>18.0</td>\n",
       "      <td>0.31</td>\n",
       "      <td>144000.0</td>\n",
       "      <td>44.40</td>\n",
       "      <td>0.98</td>\n",
       "      <td>28.25</td>\n",
       "      <td>0.19</td>\n",
       "      <td>748.0</td>\n",
       "    </tr>\n",
       "    <tr>\n",
       "      <th>114</th>\n",
       "      <td>MALI</td>\n",
       "      <td>0.43</td>\n",
       "      <td>1965.39</td>\n",
       "      <td>20250833.0</td>\n",
       "      <td>17.0</td>\n",
       "      <td>16.0</td>\n",
       "      <td>0.44</td>\n",
       "      <td>14000.0</td>\n",
       "      <td>31.38</td>\n",
       "      <td>0.96</td>\n",
       "      <td>28.25</td>\n",
       "      <td>0.04</td>\n",
       "      <td>282.0</td>\n",
       "    </tr>\n",
       "    <tr>\n",
       "      <th>115</th>\n",
       "      <td>NIGER</td>\n",
       "      <td>0.38</td>\n",
       "      <td>912.04</td>\n",
       "      <td>24206644.0</td>\n",
       "      <td>19.0</td>\n",
       "      <td>15.0</td>\n",
       "      <td>0.17</td>\n",
       "      <td>157000.0</td>\n",
       "      <td>29.26</td>\n",
       "      <td>1.00</td>\n",
       "      <td>27.15</td>\n",
       "      <td>0.01</td>\n",
       "      <td>151.0</td>\n",
       "    </tr>\n",
       "  </tbody>\n",
       "</table>\n",
       "<p>116 rows × 13 columns</p>\n",
       "</div>"
      ],
      "text/plain": [
       "          Country   IDH  GNI_per_capita   pop_total  densidade_pop  pop_idade  \\\n",
       "0          NORWAY  0.95        68058.62   5421241.0           15.0       40.0   \n",
       "1     SWITZERLAND  0.95        59374.73   8654622.0          219.0       43.0   \n",
       "2         IRELAND  0.94        55659.68   4937786.0           72.0       38.0   \n",
       "3         GERMANY  0.94        46945.95  83783942.0          240.0       46.0   \n",
       "4       AUSTRALIA  0.94        44097.02  25499884.0            3.0       38.0   \n",
       "..            ...   ...             ...         ...            ...        ...   \n",
       "111    MOZAMBIQUE  0.45         1153.70  31255435.0           40.0       18.0   \n",
       "112  SIERRA LEONE  0.44         1381.30   7976983.0          111.0       19.0   \n",
       "113  BURKINA FASO  0.43         1705.49  20903273.0           76.0       18.0   \n",
       "114          MALI  0.43         1965.39  20250833.0           17.0       16.0   \n",
       "115         NIGER  0.38          912.04  24206644.0           19.0       15.0   \n",
       "\n",
       "     pop_urbana  chegada_turistas  gasto_saude_per_capita  acesso_agua  \\\n",
       "0          0.83         5688000.0                 7936.38         1.00   \n",
       "1          0.74        10362000.0                 9956.26         1.00   \n",
       "2          0.63        10926000.0                 4976.86         0.98   \n",
       "3          0.76        38881000.0                 5033.45         1.00   \n",
       "4          0.86         9246000.0                 5331.82         1.00   \n",
       "..          ...               ...                     ...          ...   \n",
       "111        0.38         2743000.0                   21.07         0.81   \n",
       "112        0.43           57000.0                   66.40         0.85   \n",
       "113        0.31          144000.0                   44.40         0.98   \n",
       "114        0.44           14000.0                   31.38         0.96   \n",
       "115        0.17          157000.0                   29.26         1.00   \n",
       "\n",
       "     temp_media  area_floresta  precipitacao  \n",
       "0          1.50           0.33        1414.0  \n",
       "1          5.50           0.32        1537.0  \n",
       "2          9.30           0.11        1118.0  \n",
       "3          8.50           0.33         700.0  \n",
       "4         21.65           0.16         534.0  \n",
       "..          ...            ...           ...  \n",
       "111       23.80           0.48        1032.0  \n",
       "112       26.05           0.43        2526.0  \n",
       "113       28.25           0.19         748.0  \n",
       "114       28.25           0.04         282.0  \n",
       "115       27.15           0.01         151.0  \n",
       "\n",
       "[116 rows x 13 columns]"
      ]
     },
     "execution_count": 4,
     "metadata": {},
     "output_type": "execute_result"
    }
   ],
   "source": [
    "df_info"
   ]
  },
  {
   "cell_type": "code",
   "execution_count": 5,
   "metadata": {
    "colab": {
     "base_uri": "https://localhost:8080/",
     "height": 416
    },
    "id": "rHxGmSbJTSpp",
    "outputId": "4a1c5001-7b93-4c6b-ee69-898d4c580fe0"
   },
   "outputs": [
    {
     "data": {
      "text/html": [
       "<div>\n",
       "<style scoped>\n",
       "    .dataframe tbody tr th:only-of-type {\n",
       "        vertical-align: middle;\n",
       "    }\n",
       "\n",
       "    .dataframe tbody tr th {\n",
       "        vertical-align: top;\n",
       "    }\n",
       "\n",
       "    .dataframe thead th {\n",
       "        text-align: right;\n",
       "    }\n",
       "</style>\n",
       "<table border=\"1\" class=\"dataframe\">\n",
       "  <thead>\n",
       "    <tr style=\"text-align: right;\">\n",
       "      <th></th>\n",
       "      <th>Date_reported</th>\n",
       "      <th>Country</th>\n",
       "      <th>New_cases</th>\n",
       "      <th>Cumulative_cases</th>\n",
       "      <th>New_deaths</th>\n",
       "      <th>Cumulative_deaths</th>\n",
       "    </tr>\n",
       "  </thead>\n",
       "  <tbody>\n",
       "    <tr>\n",
       "      <th>53</th>\n",
       "      <td>2020-02-25</td>\n",
       "      <td>ALGERIA</td>\n",
       "      <td>5</td>\n",
       "      <td>5</td>\n",
       "      <td>0</td>\n",
       "      <td>0</td>\n",
       "    </tr>\n",
       "    <tr>\n",
       "      <th>54</th>\n",
       "      <td>2020-02-26</td>\n",
       "      <td>ALGERIA</td>\n",
       "      <td>0</td>\n",
       "      <td>5</td>\n",
       "      <td>0</td>\n",
       "      <td>0</td>\n",
       "    </tr>\n",
       "    <tr>\n",
       "      <th>55</th>\n",
       "      <td>2020-02-27</td>\n",
       "      <td>ALGERIA</td>\n",
       "      <td>0</td>\n",
       "      <td>5</td>\n",
       "      <td>0</td>\n",
       "      <td>0</td>\n",
       "    </tr>\n",
       "    <tr>\n",
       "      <th>56</th>\n",
       "      <td>2020-02-28</td>\n",
       "      <td>ALGERIA</td>\n",
       "      <td>0</td>\n",
       "      <td>5</td>\n",
       "      <td>0</td>\n",
       "      <td>0</td>\n",
       "    </tr>\n",
       "    <tr>\n",
       "      <th>57</th>\n",
       "      <td>2020-02-29</td>\n",
       "      <td>ALGERIA</td>\n",
       "      <td>0</td>\n",
       "      <td>5</td>\n",
       "      <td>0</td>\n",
       "      <td>0</td>\n",
       "    </tr>\n",
       "    <tr>\n",
       "      <th>...</th>\n",
       "      <td>...</td>\n",
       "      <td>...</td>\n",
       "      <td>...</td>\n",
       "      <td>...</td>\n",
       "      <td>...</td>\n",
       "      <td>...</td>\n",
       "    </tr>\n",
       "    <tr>\n",
       "      <th>34331</th>\n",
       "      <td>2020-10-20</td>\n",
       "      <td>ZIMBABWE</td>\n",
       "      <td>12</td>\n",
       "      <td>8159</td>\n",
       "      <td>1</td>\n",
       "      <td>232</td>\n",
       "    </tr>\n",
       "    <tr>\n",
       "      <th>34332</th>\n",
       "      <td>2020-10-21</td>\n",
       "      <td>ZIMBABWE</td>\n",
       "      <td>28</td>\n",
       "      <td>8187</td>\n",
       "      <td>1</td>\n",
       "      <td>233</td>\n",
       "    </tr>\n",
       "    <tr>\n",
       "      <th>34333</th>\n",
       "      <td>2020-10-22</td>\n",
       "      <td>ZIMBABWE</td>\n",
       "      <td>28</td>\n",
       "      <td>8215</td>\n",
       "      <td>3</td>\n",
       "      <td>236</td>\n",
       "    </tr>\n",
       "    <tr>\n",
       "      <th>34334</th>\n",
       "      <td>2020-10-23</td>\n",
       "      <td>ZIMBABWE</td>\n",
       "      <td>27</td>\n",
       "      <td>8242</td>\n",
       "      <td>0</td>\n",
       "      <td>236</td>\n",
       "    </tr>\n",
       "    <tr>\n",
       "      <th>34335</th>\n",
       "      <td>2020-10-24</td>\n",
       "      <td>ZIMBABWE</td>\n",
       "      <td>15</td>\n",
       "      <td>8257</td>\n",
       "      <td>0</td>\n",
       "      <td>236</td>\n",
       "    </tr>\n",
       "  </tbody>\n",
       "</table>\n",
       "<p>27368 rows × 6 columns</p>\n",
       "</div>"
      ],
      "text/plain": [
       "      Date_reported   Country  New_cases  Cumulative_cases  New_deaths  \\\n",
       "53       2020-02-25   ALGERIA          5                 5           0   \n",
       "54       2020-02-26   ALGERIA          0                 5           0   \n",
       "55       2020-02-27   ALGERIA          0                 5           0   \n",
       "56       2020-02-28   ALGERIA          0                 5           0   \n",
       "57       2020-02-29   ALGERIA          0                 5           0   \n",
       "...             ...       ...        ...               ...         ...   \n",
       "34331    2020-10-20  ZIMBABWE         12              8159           1   \n",
       "34332    2020-10-21  ZIMBABWE         28              8187           1   \n",
       "34333    2020-10-22  ZIMBABWE         28              8215           3   \n",
       "34334    2020-10-23  ZIMBABWE         27              8242           0   \n",
       "34335    2020-10-24  ZIMBABWE         15              8257           0   \n",
       "\n",
       "       Cumulative_deaths  \n",
       "53                     0  \n",
       "54                     0  \n",
       "55                     0  \n",
       "56                     0  \n",
       "57                     0  \n",
       "...                  ...  \n",
       "34331                232  \n",
       "34332                233  \n",
       "34333                236  \n",
       "34334                236  \n",
       "34335                236  \n",
       "\n",
       "[27368 rows x 6 columns]"
      ]
     },
     "execution_count": 5,
     "metadata": {},
     "output_type": "execute_result"
    }
   ],
   "source": [
    "df_covid[df_covid['Cumulative_cases'] > 0]"
   ]
  },
  {
   "cell_type": "markdown",
   "metadata": {
    "id": "nEZ9r65C3ss4"
   },
   "source": [
    "## Prova de conceito e regressão inicial\n",
    "Aplicamos a regressão baseada no `curve_fit` apenas em um país como prova de conceito."
   ]
  },
  {
   "cell_type": "code",
   "execution_count": 6,
   "metadata": {
    "colab": {
     "base_uri": "https://localhost:8080/",
     "height": 416
    },
    "id": "b5cAXNGZTIMb",
    "outputId": "98578f1e-938d-4bee-c73e-a337509ce81f"
   },
   "outputs": [
    {
     "data": {
      "text/html": [
       "<div>\n",
       "<style scoped>\n",
       "    .dataframe tbody tr th:only-of-type {\n",
       "        vertical-align: middle;\n",
       "    }\n",
       "\n",
       "    .dataframe tbody tr th {\n",
       "        vertical-align: top;\n",
       "    }\n",
       "\n",
       "    .dataframe thead th {\n",
       "        text-align: right;\n",
       "    }\n",
       "</style>\n",
       "<table border=\"1\" class=\"dataframe\">\n",
       "  <thead>\n",
       "    <tr style=\"text-align: right;\">\n",
       "      <th></th>\n",
       "      <th>Date_reported</th>\n",
       "      <th>Country</th>\n",
       "      <th>New_cases</th>\n",
       "      <th>Cumulative_cases</th>\n",
       "      <th>New_deaths</th>\n",
       "      <th>Cumulative_deaths</th>\n",
       "    </tr>\n",
       "  </thead>\n",
       "  <tbody>\n",
       "    <tr>\n",
       "      <th>0</th>\n",
       "      <td>2020-01-03</td>\n",
       "      <td>ALGERIA</td>\n",
       "      <td>0</td>\n",
       "      <td>0</td>\n",
       "      <td>0</td>\n",
       "      <td>0</td>\n",
       "    </tr>\n",
       "    <tr>\n",
       "      <th>1</th>\n",
       "      <td>2020-01-04</td>\n",
       "      <td>ALGERIA</td>\n",
       "      <td>0</td>\n",
       "      <td>0</td>\n",
       "      <td>0</td>\n",
       "      <td>0</td>\n",
       "    </tr>\n",
       "    <tr>\n",
       "      <th>2</th>\n",
       "      <td>2020-01-05</td>\n",
       "      <td>ALGERIA</td>\n",
       "      <td>0</td>\n",
       "      <td>0</td>\n",
       "      <td>0</td>\n",
       "      <td>0</td>\n",
       "    </tr>\n",
       "    <tr>\n",
       "      <th>3</th>\n",
       "      <td>2020-01-06</td>\n",
       "      <td>ALGERIA</td>\n",
       "      <td>0</td>\n",
       "      <td>0</td>\n",
       "      <td>0</td>\n",
       "      <td>0</td>\n",
       "    </tr>\n",
       "    <tr>\n",
       "      <th>4</th>\n",
       "      <td>2020-01-07</td>\n",
       "      <td>ALGERIA</td>\n",
       "      <td>0</td>\n",
       "      <td>0</td>\n",
       "      <td>0</td>\n",
       "      <td>0</td>\n",
       "    </tr>\n",
       "    <tr>\n",
       "      <th>...</th>\n",
       "      <td>...</td>\n",
       "      <td>...</td>\n",
       "      <td>...</td>\n",
       "      <td>...</td>\n",
       "      <td>...</td>\n",
       "      <td>...</td>\n",
       "    </tr>\n",
       "    <tr>\n",
       "      <th>291</th>\n",
       "      <td>2020-10-20</td>\n",
       "      <td>ALGERIA</td>\n",
       "      <td>214</td>\n",
       "      <td>54616</td>\n",
       "      <td>9</td>\n",
       "      <td>1865</td>\n",
       "    </tr>\n",
       "    <tr>\n",
       "      <th>292</th>\n",
       "      <td>2020-10-21</td>\n",
       "      <td>ALGERIA</td>\n",
       "      <td>223</td>\n",
       "      <td>54839</td>\n",
       "      <td>8</td>\n",
       "      <td>1873</td>\n",
       "    </tr>\n",
       "    <tr>\n",
       "      <th>293</th>\n",
       "      <td>2020-10-22</td>\n",
       "      <td>ALGERIA</td>\n",
       "      <td>252</td>\n",
       "      <td>55091</td>\n",
       "      <td>7</td>\n",
       "      <td>1880</td>\n",
       "    </tr>\n",
       "    <tr>\n",
       "      <th>294</th>\n",
       "      <td>2020-10-23</td>\n",
       "      <td>ALGERIA</td>\n",
       "      <td>266</td>\n",
       "      <td>55357</td>\n",
       "      <td>8</td>\n",
       "      <td>1888</td>\n",
       "    </tr>\n",
       "    <tr>\n",
       "      <th>295</th>\n",
       "      <td>2020-10-24</td>\n",
       "      <td>ALGERIA</td>\n",
       "      <td>273</td>\n",
       "      <td>55630</td>\n",
       "      <td>9</td>\n",
       "      <td>1897</td>\n",
       "    </tr>\n",
       "  </tbody>\n",
       "</table>\n",
       "<p>296 rows × 6 columns</p>\n",
       "</div>"
      ],
      "text/plain": [
       "    Date_reported  Country  New_cases  Cumulative_cases  New_deaths  \\\n",
       "0      2020-01-03  ALGERIA          0                 0           0   \n",
       "1      2020-01-04  ALGERIA          0                 0           0   \n",
       "2      2020-01-05  ALGERIA          0                 0           0   \n",
       "3      2020-01-06  ALGERIA          0                 0           0   \n",
       "4      2020-01-07  ALGERIA          0                 0           0   \n",
       "..            ...      ...        ...               ...         ...   \n",
       "291    2020-10-20  ALGERIA        214             54616           9   \n",
       "292    2020-10-21  ALGERIA        223             54839           8   \n",
       "293    2020-10-22  ALGERIA        252             55091           7   \n",
       "294    2020-10-23  ALGERIA        266             55357           8   \n",
       "295    2020-10-24  ALGERIA        273             55630           9   \n",
       "\n",
       "     Cumulative_deaths  \n",
       "0                    0  \n",
       "1                    0  \n",
       "2                    0  \n",
       "3                    0  \n",
       "4                    0  \n",
       "..                 ...  \n",
       "291               1865  \n",
       "292               1873  \n",
       "293               1880  \n",
       "294               1888  \n",
       "295               1897  \n",
       "\n",
       "[296 rows x 6 columns]"
      ]
     },
     "execution_count": 6,
     "metadata": {},
     "output_type": "execute_result"
    }
   ],
   "source": [
    "df_regression = df_covid[df_covid['Country'] == 'ALGERIA']\n",
    "df_regression.reset_index(inplace=True, drop=True)\n",
    "df_regression"
   ]
  },
  {
   "cell_type": "code",
   "execution_count": 7,
   "metadata": {
    "colab": {
     "base_uri": "https://localhost:8080/"
    },
    "id": "FuCxcbkjV8y0",
    "outputId": "ee42f530-c0a8-4e06-a297-0080c5fbc395"
   },
   "outputs": [
    {
     "name": "stdout",
     "output_type": "stream",
     "text": [
      "874.1833776849737\n",
      "0.032244956635101456\n",
      "59053.57448687641\n"
     ]
    }
   ],
   "source": [
    "(a, b, K), cov = curve_fit(logistic_curve,df_regression.index, df_regression['Cumulative_cases'].values)\n",
    "print(a)\n",
    "print(b)\n",
    "print(K)"
   ]
  },
  {
   "cell_type": "code",
   "execution_count": 8,
   "metadata": {
    "colab": {
     "base_uri": "https://localhost:8080/"
    },
    "id": "Ln0sAwhHWyj9",
    "outputId": "ae4ccffa-f01f-461b-96d2-36c1d0431c19"
   },
   "outputs": [
    {
     "name": "stdout",
     "output_type": "stream",
     "text": [
      "R2 Score: 0.9971845771937398\n"
     ]
    }
   ],
   "source": [
    "X = df_regression.index\n",
    "y_true = df_regression['Cumulative_cases']\n",
    "y_pred = logistic_curve(X, a, b, K)\n",
    "print(\"R2 Score:\", r2_score(y_true, y_pred))"
   ]
  },
  {
   "cell_type": "code",
   "execution_count": 9,
   "metadata": {
    "colab": {
     "base_uri": "https://localhost:8080/",
     "height": 592
    },
    "id": "mCmnfV8UW078",
    "outputId": "651c299a-8d5c-475b-e3ac-cfa7806595d2"
   },
   "outputs": [
    {
     "data": {
      "image/png": "[encoded data removed]",
      "text/plain": [
       "<Figure size 720x720 with 1 Axes>"
      ]
     },
     "metadata": {
      "needs_background": "light"
     },
     "output_type": "display_data"
    }
   ],
   "source": [
    "_, ax = plt.subplots(figsize=(10, 10))\n",
    "sns.lineplot(x=X, y=y_true, label='Real', ax=ax)\n",
    "sns.lineplot(x=X, y=y_pred, label='Regredido', ax=ax)\n",
    "plt.show()"
   ]
  },
  {
   "cell_type": "markdown",
   "metadata": {},
   "source": [
    "Como podemos ver pelo gráfico acima, a curva logística é uma boa aproximação para a progressão da doença nesse país. Esse é também o caso para quase todos os países na base de dados."
   ]
  },
  {
   "cell_type": "markdown",
   "metadata": {
    "id": "Ixt0Pnju8ZRG"
   },
   "source": [
    "## Curvas logísticas para todos os países"
   ]
  },
  {
   "cell_type": "code",
   "execution_count": 2,
   "metadata": {
    "id": "Y7DQZ-uRZPwt"
   },
   "outputs": [],
   "source": [
    "from sklearn.metrics import r2_score"
   ]
  },
  {
   "cell_type": "code",
   "execution_count": 11,
   "metadata": {
    "id": "PmitCt4a3Va6"
   },
   "outputs": [],
   "source": [
    "paises = df_covid['Country'].unique()"
   ]
  },
  {
   "cell_type": "markdown",
   "metadata": {
    "id": "keBGanaaWkQg"
   },
   "source": [
    "Para fazer a regressão de todos os países, partimos do pressuposto de que o limite superior de $K$ é a população total do país, e o limite de $b$ é a taxa de transmissão do COVID, que foi estimada a ser entre 2 e 3."
   ]
  },
  {
   "cell_type": "code",
   "execution_count": 12,
   "metadata": {
    "colab": {
     "base_uri": "https://localhost:8080/"
    },
    "id": "O1Mr0JNo8k1l",
    "outputId": "e483a0e5-a8c7-4e53-f0ec-fd0f53077da7"
   },
   "outputs": [
    {
     "name": "stdout",
     "output_type": "stream",
     "text": [
      "R2 médio: 0.9583797073037874\n"
     ]
    }
   ],
   "source": [
    "var_logisticas = {}\n",
    "scores = 0\n",
    "for pais in paises:\n",
    "  pop_pais = df_info[df_info['Country'] == pais]['pop_total'].item()\n",
    "  bounds = (0, [10e5,3., pop_pais ])\n",
    "  df_regression = df_covid[(df_covid['Country'] == pais) & (df_covid['Cumulative_cases'] > 0)]\n",
    "  df_regression.reset_index(inplace=True, drop=True) # resetando o index para t = [0, D]\n",
    "  (a, b, K), cov = curve_fit(logistic_curve,\n",
    "                            df_regression.index,\n",
    "                            df_regression['Cumulative_cases'].values,\n",
    "                            maxfev=5000,\n",
    "                            bounds=bounds)\n",
    "  \n",
    "  scores += r2_score(df_regression['Cumulative_cases'].values, logistic_curve(df_regression.index, a, b, K))\n",
    "  var_logisticas[pais] = (a, b, K)\n",
    "print(\"R2 médio:\", scores/len(paises))\n"
   ]
  },
  {
   "cell_type": "code",
   "execution_count": 13,
   "metadata": {
    "colab": {
     "base_uri": "https://localhost:8080/",
     "height": 467
    },
    "id": "IvF8emx7Cpbp",
    "outputId": "ab985e83-0063-4392-b507-80d8d5caaa9e"
   },
   "outputs": [
    {
     "data": {
      "image/png": "[encoded data removed]",
      "text/plain": [
       "<Figure size 1080x576 with 1 Axes>"
      ]
     },
     "metadata": {
      "needs_background": "light"
     },
     "output_type": "display_data"
    }
   ],
   "source": [
    "_, ax = plt.subplots(figsize=(15, 8))\n",
    "# 3-tupla formada por (a, b, K)\n",
    "contagio1 = []\n",
    "contagio2 = []\n",
    "contagio3 = []\n",
    "uk = var_logisticas['UNITED KINGDOM']\n",
    "eua = var_logisticas['UNITED STATES']\n",
    "ukr = var_logisticas['UKRAINE']\n",
    "br = var_logisticas['BRAZIL']\n",
    "lat = var_logisticas['LATVIA']\n",
    "t= np.array(range(1, 365))\n",
    "contagio1 =logistic_curve(t, *br)\n",
    "contagio2 =logistic_curve(t, *ukr)\n",
    "contagio3 =logistic_curve(t, lat[0], lat[1], lat[2])\n",
    "\n",
    "# fig, ax = plt.subplots(1,2)\n",
    "sns.lineplot(ax=ax,x=t, y=contagio1, label='BR')\n",
    "sns.lineplot(ax=ax,x=t, y=contagio2, label='UKR')\n",
    "sns.lineplot(ax=ax,x=t, y=contagio3, label='LAT')\n",
    "plt.title('Número total de casos por dia')\n",
    "plt.legend()\n",
    "plt.show()"
   ]
  },
  {
   "cell_type": "markdown",
   "metadata": {
    "id": "q3LYyD7n4Gg_"
   },
   "source": [
    "Podemos estimar o número diários de casos a partir da curva calculando a \"derivada\" da mesma, estimando os dias seguintes e subtraindo dos anteriores."
   ]
  },
  {
   "cell_type": "code",
   "execution_count": 14,
   "metadata": {
    "colab": {
     "base_uri": "https://localhost:8080/",
     "height": 450
    },
    "id": "Rbh2_ZsRIEQJ",
    "outputId": "3c560506-39d3-40ee-ba65-f53598b35e95"
   },
   "outputs": [
    {
     "data": {
      "image/png": "[encoded data removed]",
      "text/plain": [
       "<Figure size 1080x576 with 1 Axes>"
      ]
     },
     "metadata": {
      "needs_background": "light"
     },
     "output_type": "display_data"
    }
   ],
   "source": [
    "_, ax = plt.subplots(figsize=(15, 8))\n",
    "x1 = range(1,365*2)\n",
    "x2 = range(2,365*2 + 1)\n",
    "y1 = logistic_curve(x1, *eua)\n",
    "y2 = logistic_curve(x2, *eua)\n",
    "sns.lineplot(ax=ax,x=x1, y=y2-y1, label='EUA')\n",
    "y1 = logistic_curve(x1, *uk)\n",
    "y2 = logistic_curve(x2, *uk)\n",
    "sns.lineplot(ax=ax,x=x1, y=y2-y1, label='BR')\n",
    "y1 = logistic_curve(x1, *br)\n",
    "y2 = logistic_curve(x2, *br)\n",
    "sns.lineplot(ax=ax,x=x1, y=y2-y1, label='LAT')\n",
    "plt.title('Número de novos infectados por dia')\n",
    "plt.show()"
   ]
  },
  {
   "cell_type": "markdown",
   "metadata": {
    "id": "81kCGly87XJW"
   },
   "source": [
    "Apesar de bem compatível com a maioria dos países, algumas curvas não condizem com a realidade, podemos ver isso, por exemplo, na curva da Austrália e no Reino Unido, que, devido às medidas mitigadoras (como o isolamento) possuem comportamentos peculiares."
   ]
  },
  {
   "cell_type": "code",
   "execution_count": 15,
   "metadata": {
    "colab": {
     "base_uri": "https://localhost:8080/",
     "height": 444
    },
    "id": "XO2Al3ms7wnJ",
    "outputId": "f8939f26-b745-48d3-d287-217006b6a96d"
   },
   "outputs": [
    {
     "data": {
      "image/png": "[encoded data removed]",
      "text/plain": [
       "<Figure size 1080x576 with 1 Axes>"
      ]
     },
     "metadata": {
      "needs_background": "light"
     },
     "output_type": "display_data"
    }
   ],
   "source": [
    "_, ax = plt.subplots(figsize=(15, 8))\n",
    "plt.title(\"Predição no UK\")\n",
    "uk = var_logisticas['UNITED KINGDOM']\n",
    "y_true = df_covid[(df_covid['Country'] == 'UNITED KINGDOM') & df_covid['Cumulative_cases'] >0]['Cumulative_cases']\n",
    "t = np.arange(len(y_true))\n",
    "contagio1 =logistic_curve(t, *uk)\n",
    "sns.lineplot(ax=ax,x=t, y=contagio1, label='Regressão')\n",
    "sns.lineplot(ax=ax,x=t, y=y_true, label='Real')\n",
    "plt.show()\n"
   ]
  },
  {
   "cell_type": "markdown",
   "metadata": {
    "id": "GfBG15Wj4TtA"
   },
   "source": [
    "## Estimando os parâmetros da curva logística a partir de dados socioeconômicos\n",
    "Após concluir que a curva logística é, em maioria, uma boa aproximação para a curva real da doença, queremos saber se é possível estimar os mesmos parâmetros, ($K$, $a$ e $b$), a partir dos dados socioeconômicos do país.\n",
    "\n",
    "Depois dos valores de regressão conseguidos pelo `curve_fit`, utilizamos os mesmos como o alvo da predição de um regressor [`xgboost`](https://en.wikipedia.org/wiki/XGBoost). Como o alvo da regressão são três valores ($K$, $a$ e $b$), utilizamos um *wrapper* implementado pelo `sklearn` chamado [`MultiOutputRegressor`](https://scikit-learn.org/stable/modules/generated/sklearn.multioutput.MultiOutputRegressor.html)."
   ]
  },
  {
   "cell_type": "code",
   "execution_count": null,
   "metadata": {
    "id": "meeE_IFiQ5I3"
   },
   "outputs": [],
   "source": [
    "import xgboost as xgb\n",
    "from sklearn.multioutput import MultiOutputRegressor\n",
    "from sklearn.preprocessing import StandardScaler"
   ]
  },
  {
   "cell_type": "markdown",
   "metadata": {
    "id": "F5wqMjEV5eiW"
   },
   "source": [
    "Como entrada para o regressor, z-normalizamos os valores do *dataframe* contendo os valores geográficos e socioeconômicos de cada país e o atribuímos ao $X$. Para o $y$, utilizamos as regressões feitas anteriormente. "
   ]
  },
  {
   "cell_type": "code",
   "execution_count": null,
   "metadata": {
    "id": "nASmv5_7UJNr"
   },
   "outputs": [],
   "source": [
    "X = StandardScaler().fit_transform(pd.read_csv(\"worldInfo_v2.csv\").values[:, 2:])\n",
    "y = np.array(list(var_logisticas.values()))"
   ]
  },
  {
   "cell_type": "markdown",
   "metadata": {
    "id": "fY6u6VsE524e"
   },
   "source": [
    "Como prova de conceito, treinamos um regressor com uma complexidade imensa, para fazer o *overfit* dos dados e testar se o modelo funciona."
   ]
  },
  {
   "cell_type": "code",
   "execution_count": null,
   "metadata": {
    "colab": {
     "base_uri": "https://localhost:8080/"
    },
    "id": "ePmqAemIT7u3",
    "outputId": "ebd8af69-9185-4ffe-a485-e394244a10e3"
   },
   "outputs": [],
   "source": [
    "mor = MultiOutputRegressor(xgb.XGBRegressor(objective='reg:squarederror', max_depth=10000)).fit(X, y)"
   ]
  },
  {
   "cell_type": "code",
   "execution_count": null,
   "metadata": {
    "colab": {
     "base_uri": "https://localhost:8080/"
    },
    "id": "-N_8plyZbfw2",
    "outputId": "e41d1ed2-6303-45fb-b6c2-e48a92531be0"
   },
   "outputs": [],
   "source": [
    "r2_score(y, mor.predict(X))"
   ]
  },
  {
   "cell_type": "markdown",
   "metadata": {
    "id": "bAV6UYqN6CTD"
   },
   "source": [
    "Como o score R2 do regressor foi muito próximo de 1, o modelo consegue extrair informação o suficiente para prever os valores.\n"
   ]
  },
  {
   "cell_type": "markdown",
   "metadata": {
    "id": "kpb6OoEb9G3T"
   },
   "source": [
    "Depois da prova de conceito, fizemos uma validação cruzada utilizando um `kfold` de 5 folds, com o método [`GridSearchCV`](https://scikit-learn.org/stable/modules/generated/sklearn.model_selection.GridSearchCV.html). \n",
    "\n",
    "Os híperparâmetros principais em questão são o `eta`, que é a taxa de aprendizado do algoritmo, o `max_depth`, que significa a profundidade máxima de cada árvore do algoritmo de *boosting*, e o `n_estimator`, que é o número de estimadores no *boosting*.\n",
    "\n",
    "O hiperparâmetro `booster` é o tipo de modelo simples utilizado na predição, sendo o mais comum a árvore."
   ]
  },
  {
   "cell_type": "code",
   "execution_count": null,
   "metadata": {
    "id": "o9EvcYc9WCL1"
   },
   "outputs": [],
   "source": [
    "eta = [1e-10, 1e-7, 1e-4,1e-3]\n",
    "max_depth = [ 8, 16, 32]\n",
    "n_estimators = [10, 20, 30, 40, 50]\n",
    "booster = ['gbtree', 'gblinear' , 'dart']"
   ]
  },
  {
   "cell_type": "code",
   "execution_count": null,
   "metadata": {
    "id": "uDf6vQGzJ6Hv"
   },
   "outputs": [],
   "source": [
    "params = {\"estimator__eta\": eta,\n",
    "          \"estimator__max_depth\": max_depth,\n",
    "          \"estimator__n_estimators\": n_estimators,\n",
    "}\n",
    "xgbst = MultiOutputRegressor(xgb.XGBRegressor(objective='reg:squarederror', alpha=1))\n",
    "model = GridSearchCV(xgbst, params, cv=5)"
   ]
  },
  {
   "cell_type": "code",
   "execution_count": null,
   "metadata": {
    "colab": {
     "base_uri": "https://localhost:8080/"
    },
    "id": "8c1mmVWPLNSi",
    "outputId": "018de015-436c-4829-efae-582b7960d607"
   },
   "outputs": [],
   "source": [
    "multioutputregressor = model.fit(X, y)"
   ]
  },
  {
   "cell_type": "markdown",
   "metadata": {
    "id": "hhMA87qg-UPK"
   },
   "source": [
    "Depois de treinado, podemos perceber que o melhor regressor tem um `score` baixo, de -1. Isso era esperado, dado o *dataset* pequeno. "
   ]
  },
  {
   "cell_type": "code",
   "execution_count": null,
   "metadata": {
    "colab": {
     "base_uri": "https://localhost:8080/"
    },
    "id": "ji3kKkOMX2HE",
    "outputId": "f922f69c-f272-4931-a969-6090076434b2"
   },
   "outputs": [],
   "source": [
    "print(multioutputregressor.best_params_)\n",
    "print(multioutputregressor.best_score_)\n"
   ]
  },
  {
   "cell_type": "markdown",
   "metadata": {
    "id": "YZiHq0qU_Kvi"
   },
   "source": [
    "Conseguimos visualizar o resultado da regressão em cada país com o método abaixo."
   ]
  },
  {
   "cell_type": "code",
   "execution_count": null,
   "metadata": {
    "id": "2n7_dfbtusAs"
   },
   "outputs": [],
   "source": [
    "def plot_e_score_pais(pais):\n",
    "  _, ax = plt.subplots(figsize=(15, 8))\n",
    "  index = list(var_logisticas.keys()).index(pais)\n",
    "  X_local = X[index].reshape(1, -1)\n",
    "  y_true =  df_covid[(df_covid['Country'] == pais) & (df_covid['Cumulative_cases'] > 0)]['Cumulative_cases'].values\n",
    "  x = np.arange(len(y_true))\n",
    "  x_reg = multioutputregressor.predict(X_local)[0]\n",
    "  x_ovf = mor.predict(X_local)[0]\n",
    "  y_xgb = logistic_curve(x, *x_reg)\n",
    "  y_ovf = logistic_curve(x, *x_ovf)\n",
    "  y_reg = logistic_curve(x, *var_logisticas[pais])\n",
    "  sns.lineplot(ax=ax,x=x, y=y_true, label='Valor real')\n",
    "  sns.lineplot(ax=ax,x=x, y=y_reg, label='Valor regressão logística')\n",
    "  sns.lineplot(ax=ax,x=x, y=y_xgb, label='Valor regressão xgboost')\n",
    "  sns.lineplot(ax=ax,x=x, y=y_ovf, label='Valor regressão xgboost overfitada')\n",
    "  plt.show()\n",
    "  print('R2 com relacao ao real:', r2_score(y_true, y_xgb))\n",
    "  print('R2 com relacao à regressão:', r2_score(y_reg, y_xgb))\n",
    "  print('R2 overfitado com relacao ao real:', r2_score(y_true, y_ovf))\n",
    "  print('R2 overfitado com relacao à regressão:', r2_score(y_reg, y_ovf))"
   ]
  },
  {
   "cell_type": "code",
   "execution_count": null,
   "metadata": {
    "colab": {
     "base_uri": "https://localhost:8080/",
     "height": 505
    },
    "id": "BoPVMuadlJA2",
    "outputId": "4d54369f-d838-4d6a-f2d8-ebabd14e64c2"
   },
   "outputs": [],
   "source": [
    "plot_e_score_pais('CHINA')"
   ]
  },
  {
   "cell_type": "markdown",
   "metadata": {},
   "source": [
    "## Conclusão\n",
    "Apesar da ideia de associar os dados socioeconômicos com a progressão do COVID-19 ser interessante, os resultados mostram que o modelo treinado com esses dados não é suficientemente bom para prever o total de casos para vários países. Isso se deve a alguns fatores, como o crescimento ainda em andamento da curva, a baixa quantidade de dados disponíveis para análise e o comportamento inesperado de alguns países."
   ]
  }
 ],
 "metadata": {
  "colab": {
   "collapsed_sections": [],
   "name": "ICD Regressão Covid.ipynb",
   "provenance": [],
   "toc_visible": true
  },
  "kernelspec": {
   "display_name": "icd",
   "language": "python",
   "name": "icd"
  },
  "language_info": {
   "codemirror_mode": {
    "name": "ipython",
    "version": 3
   },
   "file_extension": ".py",
   "mimetype": "text/x-python",
   "name": "python",
   "nbconvert_exporter": "python",
   "pygments_lexer": "ipython3",
   "version": "3.7.6"
  }
 },
 "nbformat": 4,
 "nbformat_minor": 1
}
